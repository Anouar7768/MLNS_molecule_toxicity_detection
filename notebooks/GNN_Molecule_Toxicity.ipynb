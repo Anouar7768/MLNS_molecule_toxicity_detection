{
  "cells": [
    {
      "cell_type": "code",
      "execution_count": 1,
      "metadata": {
        "colab": {
          "base_uri": "https://localhost:8080/"
        },
        "id": "0mW_rNqnJxZp",
        "outputId": "0e5d36bc-4f1e-407a-aa18-5ceffe999e68"
      },
      "outputs": [
        {
          "output_type": "stream",
          "name": "stdout",
          "text": [
            "Mounted at /content/drive\n"
          ]
        }
      ],
      "source": [
        "from google.colab import drive\n",
        "drive.mount('/content/drive')"
      ]
    },
    {
      "cell_type": "code",
      "execution_count": null,
      "metadata": {
        "id": "L9Vlp4dIGsLB"
      },
      "outputs": [],
      "source": [
        "%pip install torch_geometric\n",
        "%pip install rdkit"
      ]
    },
    {
      "cell_type": "code",
      "execution_count": 5,
      "metadata": {
        "id": "g_guRe6QgavD"
      },
      "outputs": [],
      "source": [
        "from torch_geometric.data import Batch\n",
        "import torch"
      ]
    },
    {
      "cell_type": "code",
      "execution_count": 6,
      "metadata": {
        "id": "k70__CRCL-ny"
      },
      "outputs": [],
      "source": [
        "import pandas as pd\n",
        "import numpy as np\n",
        "import matplotlib.pyplot as plt\n",
        "import seaborn as sns\n",
        "import random\n",
        "import networkx as nx\n",
        "import ast\n",
        "\n",
        "# for molecules\n",
        "from rdkit import Chem\n",
        "from rdkit.Chem import Draw"
      ]
    },
    {
      "cell_type": "code",
      "execution_count": 7,
      "metadata": {
        "id": "VF1ul6dWX4A1"
      },
      "outputs": [],
      "source": [
        "from sklearn.model_selection import train_test_split\n",
        "from torch_geometric.data import Dataset, DataLoader\n",
        "from torch_geometric.utils.convert import from_networkx, to_networkx"
      ]
    },
    {
      "cell_type": "code",
      "execution_count": 270,
      "metadata": {
        "id": "WRK1vFOgMTD0"
      },
      "outputs": [],
      "source": [
        "df = pd.read_csv('molecule_training.csv')\n",
        "df['toxicity'] = df['target'].apply(lambda x: 'toxic' if x == 1 else 'non-toxic')"
      ]
    },
    {
      "cell_type": "code",
      "source": [
        "df = df.drop(1629) # Drop a row where we could not get features\n",
        "df = df.reset_index()\n",
        "df.drop(columns=[\"index\"], inplace=True)\n",
        "df.head()"
      ],
      "metadata": {
        "id": "0XDAVNlzQ1PT"
      },
      "execution_count": null,
      "outputs": []
    },
    {
      "cell_type": "code",
      "execution_count": 274,
      "metadata": {
        "id": "jxYYPq7wUWgi"
      },
      "outputs": [],
      "source": [
        "# Define a function to convert the graph string to a networkx graph object\n",
        "def parse_graph(graph_string):\n",
        "    # Parse the string as a list of tuples\n",
        "    edges = ast.literal_eval(graph_string)\n",
        "    # Create a new empty graph\n",
        "    graph = nx.Graph()\n",
        "    # Add edges to the graph\n",
        "    for edge in edges:\n",
        "        # Get the node labels and edge weight from the tuple\n",
        "        node1, node2 = edge[0]\n",
        "        weight = edge[1]\n",
        "        # Add the edge to the graph\n",
        "        graph.add_edge(node1, node2, weight=weight)\n",
        "    return graph\n",
        "\n",
        "# Convert the graph strings to networkx graph objects\n",
        "df[\"Graph\"] = df[\"Graph\"].str.replace(\";\", \",\")\n",
        "df['graph_obj'] = df['Graph'].apply(parse_graph)\n",
        "\n",
        "# use the molecules libraries\n",
        "df['mol'] = df['smiles'].apply(Chem.MolFromSmiles)\n",
        "\n",
        "# Extract number of nodes and edges\n",
        "df['num_nodes'] = df['graph_obj'].apply(lambda x: x.number_of_nodes())\n",
        "df['num_edges'] = df['graph_obj'].apply(lambda x: x.number_of_edges())\n",
        "\n",
        "# Create two sub-datasets: one for toxic molecules and one for non-toxic molecules\n",
        "toxic_df = df[df['target'] == 1]\n",
        "non_toxic_df = df[df['target'] == 0]"
      ]
    },
    {
      "cell_type": "code",
      "source": [
        "df.loc[df['graph_obj']==None]"
      ],
      "metadata": {
        "colab": {
          "base_uri": "https://localhost:8080/",
          "height": 128
        },
        "id": "hcVXrdrdqLYe",
        "outputId": "7d8569fd-152b-4a99-831a-eb01960b387d"
      },
      "execution_count": 380,
      "outputs": [
        {
          "output_type": "execute_result",
          "data": {
            "text/plain": [
              "Empty DataFrame\n",
              "Columns: [level_0, Maximum Degree, Minimum Degree, Molecular Weight, Number of H-Bond Donors, Number of Rings, Number of Rotatable Bonds, Polar Surface Area, inchi_key, Graph, smiles, target, toxicity, graph_obj, mol, num_nodes, num_edges]\n",
              "Index: []"
            ],
            "text/html": [
              "\n",
              "  <div id=\"df-8ef87af4-95b2-4e2f-8acc-0744f59fdf88\">\n",
              "    <div class=\"colab-df-container\">\n",
              "      <div>\n",
              "<style scoped>\n",
              "    .dataframe tbody tr th:only-of-type {\n",
              "        vertical-align: middle;\n",
              "    }\n",
              "\n",
              "    .dataframe tbody tr th {\n",
              "        vertical-align: top;\n",
              "    }\n",
              "\n",
              "    .dataframe thead th {\n",
              "        text-align: right;\n",
              "    }\n",
              "</style>\n",
              "<table border=\"1\" class=\"dataframe\">\n",
              "  <thead>\n",
              "    <tr style=\"text-align: right;\">\n",
              "      <th></th>\n",
              "      <th>level_0</th>\n",
              "      <th>Maximum Degree</th>\n",
              "      <th>Minimum Degree</th>\n",
              "      <th>Molecular Weight</th>\n",
              "      <th>Number of H-Bond Donors</th>\n",
              "      <th>Number of Rings</th>\n",
              "      <th>Number of Rotatable Bonds</th>\n",
              "      <th>Polar Surface Area</th>\n",
              "      <th>inchi_key</th>\n",
              "      <th>Graph</th>\n",
              "      <th>smiles</th>\n",
              "      <th>target</th>\n",
              "      <th>toxicity</th>\n",
              "      <th>graph_obj</th>\n",
              "      <th>mol</th>\n",
              "      <th>num_nodes</th>\n",
              "      <th>num_edges</th>\n",
              "    </tr>\n",
              "  </thead>\n",
              "  <tbody>\n",
              "  </tbody>\n",
              "</table>\n",
              "</div>\n",
              "      <button class=\"colab-df-convert\" onclick=\"convertToInteractive('df-8ef87af4-95b2-4e2f-8acc-0744f59fdf88')\"\n",
              "              title=\"Convert this dataframe to an interactive table.\"\n",
              "              style=\"display:none;\">\n",
              "        \n",
              "  <svg xmlns=\"http://www.w3.org/2000/svg\" height=\"24px\"viewBox=\"0 0 24 24\"\n",
              "       width=\"24px\">\n",
              "    <path d=\"M0 0h24v24H0V0z\" fill=\"none\"/>\n",
              "    <path d=\"M18.56 5.44l.94 2.06.94-2.06 2.06-.94-2.06-.94-.94-2.06-.94 2.06-2.06.94zm-11 1L8.5 8.5l.94-2.06 2.06-.94-2.06-.94L8.5 2.5l-.94 2.06-2.06.94zm10 10l.94 2.06.94-2.06 2.06-.94-2.06-.94-.94-2.06-.94 2.06-2.06.94z\"/><path d=\"M17.41 7.96l-1.37-1.37c-.4-.4-.92-.59-1.43-.59-.52 0-1.04.2-1.43.59L10.3 9.45l-7.72 7.72c-.78.78-.78 2.05 0 2.83L4 21.41c.39.39.9.59 1.41.59.51 0 1.02-.2 1.41-.59l7.78-7.78 2.81-2.81c.8-.78.8-2.07 0-2.86zM5.41 20L4 18.59l7.72-7.72 1.47 1.35L5.41 20z\"/>\n",
              "  </svg>\n",
              "      </button>\n",
              "      \n",
              "  <style>\n",
              "    .colab-df-container {\n",
              "      display:flex;\n",
              "      flex-wrap:wrap;\n",
              "      gap: 12px;\n",
              "    }\n",
              "\n",
              "    .colab-df-convert {\n",
              "      background-color: #E8F0FE;\n",
              "      border: none;\n",
              "      border-radius: 50%;\n",
              "      cursor: pointer;\n",
              "      display: none;\n",
              "      fill: #1967D2;\n",
              "      height: 32px;\n",
              "      padding: 0 0 0 0;\n",
              "      width: 32px;\n",
              "    }\n",
              "\n",
              "    .colab-df-convert:hover {\n",
              "      background-color: #E2EBFA;\n",
              "      box-shadow: 0px 1px 2px rgba(60, 64, 67, 0.3), 0px 1px 3px 1px rgba(60, 64, 67, 0.15);\n",
              "      fill: #174EA6;\n",
              "    }\n",
              "\n",
              "    [theme=dark] .colab-df-convert {\n",
              "      background-color: #3B4455;\n",
              "      fill: #D2E3FC;\n",
              "    }\n",
              "\n",
              "    [theme=dark] .colab-df-convert:hover {\n",
              "      background-color: #434B5C;\n",
              "      box-shadow: 0px 1px 3px 1px rgba(0, 0, 0, 0.15);\n",
              "      filter: drop-shadow(0px 1px 2px rgba(0, 0, 0, 0.3));\n",
              "      fill: #FFFFFF;\n",
              "    }\n",
              "  </style>\n",
              "\n",
              "      <script>\n",
              "        const buttonEl =\n",
              "          document.querySelector('#df-8ef87af4-95b2-4e2f-8acc-0744f59fdf88 button.colab-df-convert');\n",
              "        buttonEl.style.display =\n",
              "          google.colab.kernel.accessAllowed ? 'block' : 'none';\n",
              "\n",
              "        async function convertToInteractive(key) {\n",
              "          const element = document.querySelector('#df-8ef87af4-95b2-4e2f-8acc-0744f59fdf88');\n",
              "          const dataTable =\n",
              "            await google.colab.kernel.invokeFunction('convertToInteractive',\n",
              "                                                     [key], {});\n",
              "          if (!dataTable) return;\n",
              "\n",
              "          const docLinkHtml = 'Like what you see? Visit the ' +\n",
              "            '<a target=\"_blank\" href=https://colab.research.google.com/notebooks/data_table.ipynb>data table notebook</a>'\n",
              "            + ' to learn more about interactive tables.';\n",
              "          element.innerHTML = '';\n",
              "          dataTable['output_type'] = 'display_data';\n",
              "          await google.colab.output.renderOutput(dataTable, element);\n",
              "          const docLink = document.createElement('div');\n",
              "          docLink.innerHTML = docLinkHtml;\n",
              "          element.appendChild(docLink);\n",
              "        }\n",
              "      </script>\n",
              "    </div>\n",
              "  </div>\n",
              "  "
            ]
          },
          "metadata": {},
          "execution_count": 380
        }
      ]
    },
    {
      "cell_type": "code",
      "execution_count": 348,
      "metadata": {
        "id": "dwd-HI-0YUY4"
      },
      "outputs": [],
      "source": [
        "def mat_features(df,num_nodes):\n",
        "  max_degree=df['Maximum Degree'].values\n",
        "  min_degree=df['Minimum Degree'].values\n",
        "  mol_weight=df['Molecular Weight'].values\n",
        "  mol_h_donors=df['Number of H-Bond Donors'].values\n",
        "  mol_nb_rings=df['Number of Rings'].values\n",
        "  mol_nb_bonds=df['Number of Rotatable Bonds'].values\n",
        "  mol_polar_surface=df['Polar Surface Area'].values\n",
        "  x=[([max_degree,min_degree,mol_weight,mol_h_donors,mol_nb_rings,mol_nb_bonds,mol_polar_surface])]*num_nodes\n",
        "  return np.squeeze(np.array(x)) "
      ]
    },
    {
      "cell_type": "code",
      "execution_count": 349,
      "metadata": {
        "id": "tr3k3AG0V4EA"
      },
      "outputs": [],
      "source": [
        "X_G, X_test_G, y_G, y_test_G = train_test_split(df, df['target'], test_size=0.2,  stratify=df['target'])\n",
        "X_train_G, X_val_G, y_train_G, y_val_G = train_test_split(X_G, y_G, test_size=0.2, stratify=y_G)\n",
        "\n",
        "labels_train= list(y_train_G)\n",
        "labels_test = list(y_test_G)\n",
        "labels_val = list(y_val_G)"
      ]
    },
    {
      "cell_type": "code",
      "source": [
        "def assign_label_x(df,df_graph_obj,labels) : \n",
        "  \n",
        "  X_Graph=[]\n",
        "  true_labels=[]\n",
        "  for graph in df_graph_obj['graph_obj'] : \n",
        "    nb_nodes=graph.number_of_nodes()\n",
        "    if nb_nodes!=0 : \n",
        "      df_row=df.loc[df['graph_obj']==graph]\n",
        "      label=df_row[\"target\"].values\n",
        "      graph=from_networkx(graph)\n",
        "      graph[\"label\"]=int(label)\n",
        "      true_labels.append(label)\n",
        "      x=mat_features(df_row,nb_nodes)\n",
        "      graph['x']=x\n",
        "      X_Graph.append(graph)\n",
        "  return X_Graph,true_labels"
      ],
      "metadata": {
        "id": "F5ILrWDFf98N"
      },
      "execution_count": 385,
      "outputs": []
    },
    {
      "cell_type": "code",
      "source": [
        "X_TRAIN_GRAPH, y_train = assign_label_x(df, X_train_G, labels_train)\n",
        "X_VAL_GRAPH, y_val = assign_label_x(df, X_val_G, labels_val)\n",
        "X_TEST_GRAPH, y_test = assign_label_x(df, X_test_G, labels_test)"
      ],
      "metadata": {
        "id": "G4H9I5kjYQYr"
      },
      "execution_count": null,
      "outputs": []
    },
    {
      "cell_type": "code",
      "source": [
        "len(y_test)"
      ],
      "metadata": {
        "colab": {
          "base_uri": "https://localhost:8080/"
        },
        "id": "kq_O4RDYl0aH",
        "outputId": "2316fc55-845e-490f-bad2-fe65707c96d1"
      },
      "execution_count": 362,
      "outputs": [
        {
          "output_type": "execute_result",
          "data": {
            "text/plain": [
              "1490"
            ]
          },
          "metadata": {},
          "execution_count": 362
        }
      ]
    },
    {
      "cell_type": "code",
      "execution_count": 365,
      "metadata": {
        "colab": {
          "base_uri": "https://localhost:8080/"
        },
        "id": "uzhu3BB9YP4Z",
        "outputId": "c501ab27-18e3-4243-aa92-3c3feb447574"
      },
      "outputs": [
        {
          "output_type": "stream",
          "name": "stderr",
          "text": [
            "/usr/local/lib/python3.9/dist-packages/torch_geometric/deprecation.py:22: UserWarning: 'data.DataLoader' is deprecated, use 'loader.DataLoader' instead\n",
            "  warnings.warn(out)\n"
          ]
        }
      ],
      "source": [
        "BATCH_SIZE=1\n",
        "train_loader=DataLoader(X_TRAIN_GRAPH, batch_size=BATCH_SIZE)\n",
        "val_loader=DataLoader(X_VAL_GRAPH,batch_size=BATCH_SIZE )\n",
        "test_loader=DataLoader(X_TEST_GRAPH,batch_size=BATCH_SIZE)"
      ]
    },
    {
      "cell_type": "code",
      "execution_count": 352,
      "metadata": {
        "id": "z9QQct3jmiPb"
      },
      "outputs": [],
      "source": [
        "import torch.nn as nn\n",
        "from torch_geometric.nn import GCNConv\n",
        "class BasicGraphModel(nn.Module):\n",
        "\n",
        "    def __init__(self, input_size, hidden_size, output_size):\n",
        "        super().__init__()\n",
        "\n",
        "        self.graphconv1 = GCNConv(input_size, hidden_size)\n",
        "        self.graphconv2 = GCNConv(hidden_size, hidden_size)\n",
        "        self.graphconv3 = GCNConv(hidden_size, output_size)\n",
        "\n",
        "        self.elu = nn.ELU()\n",
        "        self.softmax = nn.Softmax(dim=-1)\n",
        "        \n",
        "\n",
        "    def forward(self, x, edge_index):\n",
        "        x = self.graphconv1(x, edge_index)\n",
        "        x = self.graphconv2(x, edge_index)\n",
        "        x = self.elu(x)\n",
        "        x = self.graphconv3(x, edge_index)\n",
        "        x = self.softmax(x)\n",
        "        return x"
      ]
    },
    {
      "cell_type": "code",
      "execution_count": 366,
      "metadata": {
        "id": "WI9p_C0XaoA2"
      },
      "outputs": [],
      "source": [
        "import torch.nn.functional as F\n",
        "from sklearn.metrics import f1_score\n",
        "\n",
        "def train(model, loss_fcn, optimizer, train_dataloader, val_dataloader, num_epochs):\n",
        "    model = model.double()\n",
        "    model.train()\n",
        "\n",
        "    for epoch in range(num_epochs):\n",
        "        losses = []\n",
        "        for i, batch in enumerate(train_dataloader):\n",
        "\n",
        "              x_train=torch.Tensor(batch.x).double()\n",
        "              edge_ind=batch.edge_index\n",
        "              output = model(x_train, edge_ind)\n",
        "              output=output.mean(1)\n",
        "              labels=batch.label\n",
        "              loss = loss_fcn(output, labels)\n",
        "              optimizer.zero_grad()\n",
        "              loss.backward()\n",
        "              optimizer.step()\n",
        "              losses.append(loss.item())\n",
        "\n",
        "        loss_data = np.mean(losses)\n",
        "        print(\"Epoch {} | Loss: {:.4f}\".format(epoch, loss_data))\n",
        "        y_preds_val=test(model, loss_fcn, val_dataloader)\n",
        "\n",
        "\n",
        "def test(model, loss_fcn, dataloader,):\n",
        "    scores=0\n",
        "    y_preds, y_true= [],[]\n",
        "    mean_scores=0\n",
        "\n",
        "    #####\n",
        "    for i, batch in enumerate(dataloader): \n",
        "        labels=batch.label\n",
        "        score, pred = evaluate(model, batch, labels, loss_fcn)\n",
        "        scores+=score\n",
        "        y_preds.append(pred)\n",
        "        y_true.append(int(labels))\n",
        "   \n",
        "    mean_scores = scores/(i+1)\n",
        "    print(\"Accuracy score: {:.4f}\".format(mean_scores))\n",
        "    print('F1-score: ' , (f1_score(y_preds,y_true)),\"\\n\")\n",
        "    return y_preds\n",
        "\n",
        "\n",
        "def evaluate(model, batched_graph, labels, loss_fcn):\n",
        "    model.eval()\n",
        "    with torch.no_grad():\n",
        "        score=0\n",
        "        x_eval=torch.Tensor(batched_graph.x).double()\n",
        "        edge_ind=batched_graph.edge_index\n",
        "        output = model(x_eval, edge_ind)\n",
        "        output=output.mean(1)\n",
        "        loss = loss_fcn(output, labels)\n",
        "        predict = output.argmax(dim=1)\n",
        "        if int(labels)==int(predict) : \n",
        "          score = 1 \n",
        "    return score, int(predict)"
      ]
    },
    {
      "cell_type": "code",
      "execution_count": 354,
      "metadata": {
        "id": "J8wtH4ONawjY"
      },
      "outputs": [],
      "source": [
        "n_features = 7\n",
        "n_classes = 2\n",
        "hidden_size = 64\n",
        "\n",
        "model = BasicGraphModel( \n",
        "                        input_size=n_features,\n",
        "                        hidden_size=hidden_size, \n",
        "                        output_size=n_classes\n",
        "                        )\n",
        "optimizer = torch.optim.Adam(model.parameters(), lr=0.001)\n",
        "\n",
        "loss_fcn = torch.nn.CrossEntropyLoss()\n",
        "\n"
      ]
    },
    {
      "cell_type": "code",
      "execution_count": 355,
      "metadata": {
        "colab": {
          "base_uri": "https://localhost:8080/"
        },
        "id": "CwhwWlbRbEgs",
        "outputId": "fe7ca911-0910-4ac9-89f2-fc7669c4e88b"
      },
      "outputs": [
        {
          "output_type": "stream",
          "name": "stdout",
          "text": [
            "Epoch 0 | Loss: 0.8151\n",
            "Accuracy score: 0.9589\n",
            "F1-score:  0.0 \n",
            "\n",
            "Epoch 1 | Loss: 0.5770\n",
            "Accuracy score: 0.9589\n",
            "F1-score:  0.0 \n",
            "\n",
            "Epoch 2 | Loss: 0.4496\n",
            "Accuracy score: 0.9581\n",
            "F1-score:  0.0 \n",
            "\n",
            "Epoch 3 | Loss: 0.3602\n",
            "Accuracy score: 0.9581\n",
            "F1-score:  0.0 \n",
            "\n",
            "Epoch 4 | Loss: 0.3028\n",
            "Accuracy score: 0.9572\n",
            "F1-score:  0.0 \n",
            "\n",
            "Epoch 5 | Loss: 0.2497\n",
            "Accuracy score: 0.9581\n",
            "F1-score:  0.0 \n",
            "\n",
            "Epoch 6 | Loss: 0.2143\n",
            "Accuracy score: 0.9581\n",
            "F1-score:  0.0 \n",
            "\n",
            "Epoch 7 | Loss: 0.1889\n",
            "Accuracy score: 0.9564\n",
            "F1-score:  0.0 \n",
            "\n",
            "Epoch 8 | Loss: 0.1898\n",
            "Accuracy score: 0.9581\n",
            "F1-score:  0.0 \n",
            "\n",
            "Epoch 9 | Loss: 0.1731\n",
            "Accuracy score: 0.9581\n",
            "F1-score:  0.0 \n",
            "\n"
          ]
        }
      ],
      "source": [
        "# Train and test\n",
        "train(model, loss_fcn, optimizer, train_loader, val_loader, num_epochs=10)"
      ]
    },
    {
      "cell_type": "code",
      "source": [
        "test_loader"
      ],
      "metadata": {
        "colab": {
          "base_uri": "https://localhost:8080/"
        },
        "id": "Tpm7mmMbmE1L",
        "outputId": "036f3daf-a55b-48ab-ddf7-ef24a6fbf8b3"
      },
      "execution_count": 364,
      "outputs": [
        {
          "output_type": "execute_result",
          "data": {
            "text/plain": [
              "<torch_geometric.deprecation.DataLoader at 0x7fe331e7c340>"
            ]
          },
          "metadata": {},
          "execution_count": 364
        }
      ]
    },
    {
      "cell_type": "code",
      "execution_count": 368,
      "metadata": {
        "colab": {
          "base_uri": "https://localhost:8080/"
        },
        "id": "eYjTHMMsbHJn",
        "outputId": "94651591-4136-4d9f-d6c2-5d962fbad17e"
      },
      "outputs": [
        {
          "output_type": "stream",
          "name": "stdout",
          "text": [
            "Accuracy score: 0.9591\n",
            "F1-score:  0.0 \n",
            "\n"
          ]
        }
      ],
      "source": [
        "y_preds_test=test(model, loss_fcn, test_loader)"
      ]
    },
    {
      "cell_type": "code",
      "source": [
        "f1_score(list(y_test),y_preds_test)"
      ],
      "metadata": {
        "colab": {
          "base_uri": "https://localhost:8080/"
        },
        "id": "0IzK37kZlsk4",
        "outputId": "49616819-bab1-4784-b914-1445461cda55"
      },
      "execution_count": 377,
      "outputs": [
        {
          "output_type": "execute_result",
          "data": {
            "text/plain": [
              "0.0"
            ]
          },
          "metadata": {},
          "execution_count": 377
        }
      ]
    },
    {
      "cell_type": "code",
      "source": [
        "y_preds_test "
      ],
      "metadata": {
        "id": "qBemkUpvlSrc"
      },
      "execution_count": null,
      "outputs": []
    },
    {
      "cell_type": "code",
      "source": [
        "len(y_preds_test)"
      ],
      "metadata": {
        "colab": {
          "base_uri": "https://localhost:8080/"
        },
        "id": "GSnzHrY0Z4uc",
        "outputId": "a6c15e41-1fd8-4b9e-84d2-de01b1dffbab"
      },
      "execution_count": 195,
      "outputs": [
        {
          "output_type": "execute_result",
          "data": {
            "text/plain": [
              "1492"
            ]
          },
          "metadata": {},
          "execution_count": 195
        }
      ]
    },
    {
      "cell_type": "markdown",
      "source": [
        "Split equally 0 and 1 "
      ],
      "metadata": {
        "id": "qHBWvfYLOimo"
      }
    },
    {
      "cell_type": "code",
      "execution_count": 339,
      "metadata": {
        "id": "TMlW6_ME3271"
      },
      "outputs": [],
      "source": [
        "new_X_TRAIN_GRAPH=[]"
      ]
    },
    {
      "cell_type": "code",
      "execution_count": 340,
      "metadata": {
        "id": "3_a5jcUR21bx"
      },
      "outputs": [],
      "source": [
        "compteur_1=0\n",
        "compteur_0=0\n",
        "for i in range (len(X_TRAIN_GRAPH)) : \n",
        "  if X_TRAIN_GRAPH[i]['label']==1 : \n",
        "    new_X_TRAIN_GRAPH.append(X_TRAIN_GRAPH[i])\n",
        "    compteur_1+=1\n",
        "  else : \n",
        "    if compteur_0 !=compteur_1 :\n",
        "      new_X_TRAIN_GRAPH.append(X_TRAIN_GRAPH[i])\n",
        "      compteur_0+=1"
      ]
    },
    {
      "cell_type": "code",
      "execution_count": 341,
      "metadata": {
        "colab": {
          "base_uri": "https://localhost:8080/"
        },
        "id": "vjIA4q0c4I88",
        "outputId": "b02d542a-8093-43b2-a3d5-55529de2a26d"
      },
      "outputs": [
        {
          "output_type": "stream",
          "name": "stderr",
          "text": [
            "/usr/local/lib/python3.9/dist-packages/torch_geometric/deprecation.py:22: UserWarning: 'data.DataLoader' is deprecated, use 'loader.DataLoader' instead\n",
            "  warnings.warn(out)\n"
          ]
        }
      ],
      "source": [
        "new_train_loader=DataLoader(new_X_TRAIN_GRAPH, batch_size=BATCH_SIZE)"
      ]
    },
    {
      "cell_type": "code",
      "execution_count": 342,
      "metadata": {
        "id": "KfdVb84648y2"
      },
      "outputs": [],
      "source": [
        "n_features = 7\n",
        "n_classes = 2\n",
        "hidden_size = 64\n",
        "\n",
        "model = BasicGraphModel( \n",
        "                        input_size=n_features,\n",
        "                        hidden_size=hidden_size, \n",
        "                        output_size=n_classes\n",
        "                        )\n",
        "optimizer = torch.optim.Adam(model.parameters(), lr=0.0001)\n",
        "\n",
        "loss_fcn = torch.nn.CrossEntropyLoss()\n",
        "\n"
      ]
    },
    {
      "cell_type": "code",
      "execution_count": 343,
      "metadata": {
        "colab": {
          "base_uri": "https://localhost:8080/",
          "height": 606
        },
        "id": "cyWA4cpz5BlA",
        "outputId": "82b3e285-a1ed-4ffb-a93c-6e6173d965f4"
      },
      "outputs": [
        {
          "output_type": "stream",
          "name": "stdout",
          "text": [
            "Epoch 0 | Loss: 7.5102\n",
            "Accuracy score: 0.5243\n",
            "F1-score:  0.04705882352941176 \n",
            "\n",
            "Epoch 1 | Loss: 1.4557\n",
            "Accuracy score: 0.4153\n",
            "F1-score:  0.0743691899070385 \n",
            "\n",
            "Epoch 2 | Loss: 1.0077\n",
            "Accuracy score: 0.3666\n",
            "F1-score:  0.08262454434993924 \n",
            "\n",
            "Epoch 3 | Loss: 0.8682\n",
            "Accuracy score: 0.3599\n",
            "F1-score:  0.0970414201183432 \n",
            "\n"
          ]
        },
        {
          "output_type": "error",
          "ename": "KeyboardInterrupt",
          "evalue": "ignored",
          "traceback": [
            "\u001b[0;31m---------------------------------------------------------------------------\u001b[0m",
            "\u001b[0;31mKeyboardInterrupt\u001b[0m                         Traceback (most recent call last)",
            "\u001b[0;32m<ipython-input-343-9eafab053833>\u001b[0m in \u001b[0;36m<cell line: 2>\u001b[0;34m()\u001b[0m\n\u001b[1;32m      1\u001b[0m \u001b[0;31m# Train and test\u001b[0m\u001b[0;34m\u001b[0m\u001b[0;34m\u001b[0m\u001b[0m\n\u001b[0;32m----> 2\u001b[0;31m \u001b[0mtrain\u001b[0m\u001b[0;34m(\u001b[0m\u001b[0mmodel\u001b[0m\u001b[0;34m,\u001b[0m \u001b[0mloss_fcn\u001b[0m\u001b[0;34m,\u001b[0m \u001b[0moptimizer\u001b[0m \u001b[0;34m,\u001b[0m\u001b[0mnew_train_loader\u001b[0m\u001b[0;34m,\u001b[0m \u001b[0mval_loader\u001b[0m\u001b[0;34m,\u001b[0m \u001b[0mnum_epochs\u001b[0m\u001b[0;34m=\u001b[0m\u001b[0;36m10\u001b[0m\u001b[0;34m)\u001b[0m\u001b[0;34m\u001b[0m\u001b[0;34m\u001b[0m\u001b[0m\n\u001b[0m",
            "\u001b[0;32m<ipython-input-335-a74041719a8d>\u001b[0m in \u001b[0;36mtrain\u001b[0;34m(model, loss_fcn, optimizer, train_dataloader, val_dataloader, num_epochs)\u001b[0m\n\u001b[1;32m     17\u001b[0m               \u001b[0mloss\u001b[0m \u001b[0;34m=\u001b[0m \u001b[0mloss_fcn\u001b[0m\u001b[0;34m(\u001b[0m\u001b[0moutput\u001b[0m\u001b[0;34m,\u001b[0m \u001b[0mlabels\u001b[0m\u001b[0;34m)\u001b[0m\u001b[0;34m\u001b[0m\u001b[0;34m\u001b[0m\u001b[0m\n\u001b[1;32m     18\u001b[0m               \u001b[0moptimizer\u001b[0m\u001b[0;34m.\u001b[0m\u001b[0mzero_grad\u001b[0m\u001b[0;34m(\u001b[0m\u001b[0;34m)\u001b[0m\u001b[0;34m\u001b[0m\u001b[0;34m\u001b[0m\u001b[0m\n\u001b[0;32m---> 19\u001b[0;31m               \u001b[0mloss\u001b[0m\u001b[0;34m.\u001b[0m\u001b[0mbackward\u001b[0m\u001b[0;34m(\u001b[0m\u001b[0;34m)\u001b[0m\u001b[0;34m\u001b[0m\u001b[0;34m\u001b[0m\u001b[0m\n\u001b[0m\u001b[1;32m     20\u001b[0m               \u001b[0moptimizer\u001b[0m\u001b[0;34m.\u001b[0m\u001b[0mstep\u001b[0m\u001b[0;34m(\u001b[0m\u001b[0;34m)\u001b[0m\u001b[0;34m\u001b[0m\u001b[0;34m\u001b[0m\u001b[0m\n\u001b[1;32m     21\u001b[0m               \u001b[0mlosses\u001b[0m\u001b[0;34m.\u001b[0m\u001b[0mappend\u001b[0m\u001b[0;34m(\u001b[0m\u001b[0mloss\u001b[0m\u001b[0;34m.\u001b[0m\u001b[0mitem\u001b[0m\u001b[0;34m(\u001b[0m\u001b[0;34m)\u001b[0m\u001b[0;34m)\u001b[0m\u001b[0;34m\u001b[0m\u001b[0;34m\u001b[0m\u001b[0m\n",
            "\u001b[0;32m/usr/local/lib/python3.9/dist-packages/torch/_tensor.py\u001b[0m in \u001b[0;36mbackward\u001b[0;34m(self, gradient, retain_graph, create_graph, inputs)\u001b[0m\n\u001b[1;32m    485\u001b[0m                 \u001b[0minputs\u001b[0m\u001b[0;34m=\u001b[0m\u001b[0minputs\u001b[0m\u001b[0;34m,\u001b[0m\u001b[0;34m\u001b[0m\u001b[0;34m\u001b[0m\u001b[0m\n\u001b[1;32m    486\u001b[0m             )\n\u001b[0;32m--> 487\u001b[0;31m         torch.autograd.backward(\n\u001b[0m\u001b[1;32m    488\u001b[0m             \u001b[0mself\u001b[0m\u001b[0;34m,\u001b[0m \u001b[0mgradient\u001b[0m\u001b[0;34m,\u001b[0m \u001b[0mretain_graph\u001b[0m\u001b[0;34m,\u001b[0m \u001b[0mcreate_graph\u001b[0m\u001b[0;34m,\u001b[0m \u001b[0minputs\u001b[0m\u001b[0;34m=\u001b[0m\u001b[0minputs\u001b[0m\u001b[0;34m\u001b[0m\u001b[0;34m\u001b[0m\u001b[0m\n\u001b[1;32m    489\u001b[0m         )\n",
            "\u001b[0;32m/usr/local/lib/python3.9/dist-packages/torch/autograd/__init__.py\u001b[0m in \u001b[0;36mbackward\u001b[0;34m(tensors, grad_tensors, retain_graph, create_graph, grad_variables, inputs)\u001b[0m\n\u001b[1;32m    198\u001b[0m     \u001b[0;31m# some Python versions print out the first line of a multi-line function\u001b[0m\u001b[0;34m\u001b[0m\u001b[0;34m\u001b[0m\u001b[0m\n\u001b[1;32m    199\u001b[0m     \u001b[0;31m# calls in the traceback and some print out the last line\u001b[0m\u001b[0;34m\u001b[0m\u001b[0;34m\u001b[0m\u001b[0m\n\u001b[0;32m--> 200\u001b[0;31m     Variable._execution_engine.run_backward(  # Calls into the C++ engine to run the backward pass\n\u001b[0m\u001b[1;32m    201\u001b[0m         \u001b[0mtensors\u001b[0m\u001b[0;34m,\u001b[0m \u001b[0mgrad_tensors_\u001b[0m\u001b[0;34m,\u001b[0m \u001b[0mretain_graph\u001b[0m\u001b[0;34m,\u001b[0m \u001b[0mcreate_graph\u001b[0m\u001b[0;34m,\u001b[0m \u001b[0minputs\u001b[0m\u001b[0;34m,\u001b[0m\u001b[0;34m\u001b[0m\u001b[0;34m\u001b[0m\u001b[0m\n\u001b[1;32m    202\u001b[0m         allow_unreachable=True, accumulate_grad=True)  # Calls into the C++ engine to run the backward pass\n",
            "\u001b[0;31mKeyboardInterrupt\u001b[0m: "
          ]
        }
      ],
      "source": [
        "# Train and test\n",
        "train(model, loss_fcn, optimizer ,new_train_loader, val_loader, num_epochs=10)"
      ]
    },
    {
      "cell_type": "code",
      "execution_count": 231,
      "metadata": {
        "colab": {
          "base_uri": "https://localhost:8080/"
        },
        "id": "YzE6NbjF5It3",
        "outputId": "541dc819-cc37-4d70-92d0-b7c71ba873d3"
      },
      "outputs": [
        {
          "output_type": "stream",
          "name": "stdout",
          "text": [
            "Accuracy score: 0.3633\n",
            "F1-score:  0.06679764243614932 \n",
            "\n"
          ]
        }
      ],
      "source": [
        "y_preds_test=test(model, loss_fcn, test_loader)"
      ]
    }
  ],
  "metadata": {
    "accelerator": "GPU",
    "colab": {
      "collapsed_sections": [
        "DJrnOFx_atze"
      ],
      "provenance": []
    },
    "gpuClass": "standard",
    "kernelspec": {
      "display_name": "Python 3",
      "name": "python3"
    },
    "language_info": {
      "name": "python"
    }
  },
  "nbformat": 4,
  "nbformat_minor": 0
}