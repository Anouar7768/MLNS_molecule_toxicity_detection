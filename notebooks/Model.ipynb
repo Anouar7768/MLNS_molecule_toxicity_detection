{
 "cells": [
  {
   "cell_type": "markdown",
   "id": "e57bb518",
   "metadata": {},
   "source": [
    "# Model "
   ]
  },
  {
   "cell_type": "markdown",
   "id": "de0fda25",
   "metadata": {},
   "source": [
    "## Import of data and libraries"
   ]
  },
  {
   "cell_type": "code",
   "execution_count": 1,
   "id": "ae832ab1",
   "metadata": {},
   "outputs": [],
   "source": [
    "import os\n",
    "import pandas as pd\n",
    "import numpy as np\n",
    "import matplotlib.pyplot as plt\n",
    "\n",
    "import time \n",
    "from tqdm import tqdm\n",
    "import itertools\n",
    "\n",
    "from sklearn.decomposition import PCA\n",
    "from sklearn.preprocessing import MinMaxScaler\n",
    "from sklearn.manifold import TSNE\n",
    "\n",
    "from sklearn.ensemble import RandomForestClassifier\n",
    "from sklearn.naive_bayes import GaussianNB\n",
    "from sklearn.model_selection import train_test_split, cross_val_score, RandomizedSearchCV\n",
    "\n",
    "from sklearn.metrics import roc_auc_score, accuracy_score, auc, f1_score"
   ]
  },
  {
   "cell_type": "code",
   "execution_count": 8,
   "id": "194c0c4c",
   "metadata": {},
   "outputs": [
    {
     "data": {
      "text/html": [
       "<div>\n",
       "<style scoped>\n",
       "    .dataframe tbody tr th:only-of-type {\n",
       "        vertical-align: middle;\n",
       "    }\n",
       "\n",
       "    .dataframe tbody tr th {\n",
       "        vertical-align: top;\n",
       "    }\n",
       "\n",
       "    .dataframe thead th {\n",
       "        text-align: right;\n",
       "    }\n",
       "</style>\n",
       "<table border=\"1\" class=\"dataframe\">\n",
       "  <thead>\n",
       "    <tr style=\"text-align: right;\">\n",
       "      <th></th>\n",
       "      <th>0</th>\n",
       "      <th>1</th>\n",
       "      <th>2</th>\n",
       "      <th>3</th>\n",
       "      <th>4</th>\n",
       "      <th>5</th>\n",
       "      <th>6</th>\n",
       "      <th>7</th>\n",
       "      <th>8</th>\n",
       "      <th>9</th>\n",
       "      <th>...</th>\n",
       "      <th>119</th>\n",
       "      <th>120</th>\n",
       "      <th>121</th>\n",
       "      <th>122</th>\n",
       "      <th>123</th>\n",
       "      <th>124</th>\n",
       "      <th>125</th>\n",
       "      <th>126</th>\n",
       "      <th>127</th>\n",
       "      <th>target</th>\n",
       "    </tr>\n",
       "  </thead>\n",
       "  <tbody>\n",
       "    <tr>\n",
       "      <th>0</th>\n",
       "      <td>0.003648</td>\n",
       "      <td>0.030426</td>\n",
       "      <td>-0.059600</td>\n",
       "      <td>0.053376</td>\n",
       "      <td>-0.063818</td>\n",
       "      <td>0.005064</td>\n",
       "      <td>-0.048475</td>\n",
       "      <td>0.027371</td>\n",
       "      <td>-0.031130</td>\n",
       "      <td>-0.004935</td>\n",
       "      <td>...</td>\n",
       "      <td>0.046754</td>\n",
       "      <td>-0.014280</td>\n",
       "      <td>-0.012231</td>\n",
       "      <td>0.065869</td>\n",
       "      <td>-0.024632</td>\n",
       "      <td>0.018726</td>\n",
       "      <td>0.017389</td>\n",
       "      <td>0.016880</td>\n",
       "      <td>0.048913</td>\n",
       "      <td>0</td>\n",
       "    </tr>\n",
       "    <tr>\n",
       "      <th>1</th>\n",
       "      <td>-0.001902</td>\n",
       "      <td>0.037431</td>\n",
       "      <td>-0.085025</td>\n",
       "      <td>0.072920</td>\n",
       "      <td>-0.066810</td>\n",
       "      <td>0.008585</td>\n",
       "      <td>-0.057249</td>\n",
       "      <td>0.029664</td>\n",
       "      <td>-0.040221</td>\n",
       "      <td>0.003586</td>\n",
       "      <td>...</td>\n",
       "      <td>0.067898</td>\n",
       "      <td>-0.018513</td>\n",
       "      <td>-0.011579</td>\n",
       "      <td>0.082591</td>\n",
       "      <td>-0.037227</td>\n",
       "      <td>0.018272</td>\n",
       "      <td>0.011772</td>\n",
       "      <td>0.022600</td>\n",
       "      <td>0.054213</td>\n",
       "      <td>0</td>\n",
       "    </tr>\n",
       "    <tr>\n",
       "      <th>2</th>\n",
       "      <td>0.002147</td>\n",
       "      <td>0.032260</td>\n",
       "      <td>-0.090441</td>\n",
       "      <td>0.085503</td>\n",
       "      <td>-0.068285</td>\n",
       "      <td>0.007026</td>\n",
       "      <td>-0.056673</td>\n",
       "      <td>0.023830</td>\n",
       "      <td>-0.039513</td>\n",
       "      <td>0.003580</td>\n",
       "      <td>...</td>\n",
       "      <td>0.070020</td>\n",
       "      <td>-0.029177</td>\n",
       "      <td>-0.023156</td>\n",
       "      <td>0.076559</td>\n",
       "      <td>-0.047517</td>\n",
       "      <td>0.031696</td>\n",
       "      <td>0.009417</td>\n",
       "      <td>0.011099</td>\n",
       "      <td>0.064167</td>\n",
       "      <td>0</td>\n",
       "    </tr>\n",
       "    <tr>\n",
       "      <th>3</th>\n",
       "      <td>0.000640</td>\n",
       "      <td>0.025693</td>\n",
       "      <td>-0.087457</td>\n",
       "      <td>0.070357</td>\n",
       "      <td>-0.079205</td>\n",
       "      <td>0.012125</td>\n",
       "      <td>-0.056893</td>\n",
       "      <td>0.023188</td>\n",
       "      <td>-0.040660</td>\n",
       "      <td>0.001516</td>\n",
       "      <td>...</td>\n",
       "      <td>0.064846</td>\n",
       "      <td>-0.022797</td>\n",
       "      <td>-0.018596</td>\n",
       "      <td>0.076319</td>\n",
       "      <td>-0.048406</td>\n",
       "      <td>0.026372</td>\n",
       "      <td>0.019349</td>\n",
       "      <td>0.017283</td>\n",
       "      <td>0.056191</td>\n",
       "      <td>0</td>\n",
       "    </tr>\n",
       "    <tr>\n",
       "      <th>4</th>\n",
       "      <td>0.002721</td>\n",
       "      <td>0.015900</td>\n",
       "      <td>-0.066838</td>\n",
       "      <td>0.053309</td>\n",
       "      <td>-0.049581</td>\n",
       "      <td>0.007857</td>\n",
       "      <td>-0.038212</td>\n",
       "      <td>0.015624</td>\n",
       "      <td>-0.018888</td>\n",
       "      <td>-0.004454</td>\n",
       "      <td>...</td>\n",
       "      <td>0.044386</td>\n",
       "      <td>-0.020445</td>\n",
       "      <td>-0.017463</td>\n",
       "      <td>0.055026</td>\n",
       "      <td>-0.020987</td>\n",
       "      <td>0.023640</td>\n",
       "      <td>0.011404</td>\n",
       "      <td>0.008539</td>\n",
       "      <td>0.035800</td>\n",
       "      <td>0</td>\n",
       "    </tr>\n",
       "  </tbody>\n",
       "</table>\n",
       "<p>5 rows × 129 columns</p>\n",
       "</div>"
      ],
      "text/plain": [
       "          0         1         2         3         4         5         6  \\\n",
       "0  0.003648  0.030426 -0.059600  0.053376 -0.063818  0.005064 -0.048475   \n",
       "1 -0.001902  0.037431 -0.085025  0.072920 -0.066810  0.008585 -0.057249   \n",
       "2  0.002147  0.032260 -0.090441  0.085503 -0.068285  0.007026 -0.056673   \n",
       "3  0.000640  0.025693 -0.087457  0.070357 -0.079205  0.012125 -0.056893   \n",
       "4  0.002721  0.015900 -0.066838  0.053309 -0.049581  0.007857 -0.038212   \n",
       "\n",
       "          7         8         9  ...       119       120       121       122  \\\n",
       "0  0.027371 -0.031130 -0.004935  ...  0.046754 -0.014280 -0.012231  0.065869   \n",
       "1  0.029664 -0.040221  0.003586  ...  0.067898 -0.018513 -0.011579  0.082591   \n",
       "2  0.023830 -0.039513  0.003580  ...  0.070020 -0.029177 -0.023156  0.076559   \n",
       "3  0.023188 -0.040660  0.001516  ...  0.064846 -0.022797 -0.018596  0.076319   \n",
       "4  0.015624 -0.018888 -0.004454  ...  0.044386 -0.020445 -0.017463  0.055026   \n",
       "\n",
       "        123       124       125       126       127  target  \n",
       "0 -0.024632  0.018726  0.017389  0.016880  0.048913       0  \n",
       "1 -0.037227  0.018272  0.011772  0.022600  0.054213       0  \n",
       "2 -0.047517  0.031696  0.009417  0.011099  0.064167       0  \n",
       "3 -0.048406  0.026372  0.019349  0.017283  0.056191       0  \n",
       "4 -0.020987  0.023640  0.011404  0.008539  0.035800       0  \n",
       "\n",
       "[5 rows x 129 columns]"
      ]
     },
     "execution_count": 8,
     "metadata": {},
     "output_type": "execute_result"
    }
   ],
   "source": [
    "df = pd.read_csv(\"../data/graph2vec_embedding.csv\", index_col=\"Unnamed: 0\")\n",
    "df.head()"
   ]
  },
  {
   "cell_type": "markdown",
   "id": "552a7552",
   "metadata": {},
   "source": [
    "## Data visualization"
   ]
  },
  {
   "cell_type": "markdown",
   "id": "9678ebf2",
   "metadata": {},
   "source": [
    "Let's try to see what's the t-SNE plot of our Graph to Vec embedding "
   ]
  },
  {
   "cell_type": "code",
   "execution_count": 10,
   "id": "46236744",
   "metadata": {},
   "outputs": [
    {
     "name": "stderr",
     "output_type": "stream",
     "text": [
      "/Users/anouaroussalah/opt/anaconda3/lib/python3.9/site-packages/sklearn/manifold/_t_sne.py:780: FutureWarning: The default initialization in TSNE will change from 'random' to 'pca' in 1.2.\n",
      "  warnings.warn(\n",
      "/Users/anouaroussalah/opt/anaconda3/lib/python3.9/site-packages/sklearn/manifold/_t_sne.py:790: FutureWarning: The default learning rate in TSNE will change from 200.0 to 'auto' in 1.2.\n",
      "  warnings.warn(\n"
     ]
    },
    {
     "data": {
      "image/png": "[encoded data removed]",
      "text/plain": [
       "<Figure size 640x480 with 1 Axes>"
      ]
     },
     "metadata": {},
     "output_type": "display_data"
    }
   ],
   "source": [
    "# Separate features and labels\n",
    "X = df.drop('target', axis=1)\n",
    "y = df['target']\n",
    "\n",
    "# Initialize t-SNE object\n",
    "tsne = TSNE(n_components=2, random_state=0)\n",
    "\n",
    "# Fit and transform the data\n",
    "X_tsne = tsne.fit_transform(X)\n",
    "\n",
    "# Create the plot\n",
    "plt.scatter(X_tsne[:, 0], X_tsne[:, 1], c=y)\n",
    "plt.title('t-SNE Plot')\n",
    "plt.show()"
   ]
  },
  {
   "cell_type": "markdown",
   "id": "031a689b",
   "metadata": {},
   "source": [
    "We can that the 2 classes (toxic and non toxic) are not properly separable, which might mean that this embedding is not necessarily the appropriate one for our dataset. Let's try to see how bad/good a baseline model will perform, and then try to improve performance wth more complex models."
   ]
  },
  {
   "cell_type": "markdown",
   "id": "0d1c58c8",
   "metadata": {},
   "source": [
    "## Baseline model"
   ]
  },
  {
   "cell_type": "markdown",
   "id": "58edab12",
   "metadata": {},
   "source": [
    "For this baseline model, we will implement an easy to go model, that is quite fast to run : Naive bayesian model !\n",
    "\n",
    "But first, let's split ou dataset into train and test sets : "
   ]
  },
  {
   "cell_type": "code",
   "execution_count": 21,
   "id": "747f2793",
   "metadata": {},
   "outputs": [
    {
     "name": "stdout",
     "output_type": "stream",
     "text": [
      "Size of the test set: 1493\n"
     ]
    }
   ],
   "source": [
    "X_, X_test, y_, y_test = train_test_split(X, y, test_size=0.2, random_state=42, stratify=y)\n",
    "\n",
    "print(f\"Size of the test set: {len(y_test)}\")"
   ]
  },
  {
   "cell_type": "code",
   "execution_count": 22,
   "id": "1214942a",
   "metadata": {},
   "outputs": [
    {
     "name": "stdout",
     "output_type": "stream",
     "text": [
      "Size of the train set: 4776\n"
     ]
    }
   ],
   "source": [
    "X_train, X_val, y_train, y_val = train_test_split(X_, y_, test_size=0.2, random_state=42, stratify=y_)\n",
    "\n",
    "print(f\"Size of the train set: {len(y_train)}\")"
   ]
  },
  {
   "cell_type": "code",
   "execution_count": 23,
   "id": "a533d4e0",
   "metadata": {},
   "outputs": [
    {
     "name": "stdout",
     "output_type": "stream",
     "text": [
      "CPU times: user 15.1 ms, sys: 11.2 ms, total: 26.3 ms\n",
      "Wall time: 23.9 ms\n"
     ]
    },
    {
     "data": {
      "text/plain": [
       "GaussianNB()"
      ]
     },
     "execution_count": 23,
     "metadata": {},
     "output_type": "execute_result"
    }
   ],
   "source": [
    "%%time \n",
    "\n",
    "baseline_model = GaussianNB()\n",
    "\n",
    "baseline_model.fit(X_train, y_train)"
   ]
  },
  {
   "cell_type": "code",
   "execution_count": 24,
   "id": "4a43614d",
   "metadata": {},
   "outputs": [],
   "source": [
    "y_pred = baseline_model.predict(X_val)"
   ]
  },
  {
   "cell_type": "code",
   "execution_count": 25,
   "id": "e7980c4c",
   "metadata": {},
   "outputs": [
    {
     "name": "stdout",
     "output_type": "stream",
     "text": [
      "The accuracy on the validation set is 0.7858\n"
     ]
    }
   ],
   "source": [
    "print(f\"The accuracy on the validation set is {round(accuracy_score(y_val, y_pred),4)}\")"
   ]
  },
  {
   "cell_type": "code",
   "execution_count": 26,
   "id": "42c00873",
   "metadata": {},
   "outputs": [
    {
     "name": "stdout",
     "output_type": "stream",
     "text": [
      "The f1-score on the validation set is 0.195\n"
     ]
    }
   ],
   "source": [
    "print(f\"The f1-score on the validation set is {round(f1_score(y_val, y_pred),4)}\")"
   ]
  },
  {
   "cell_type": "code",
   "execution_count": 27,
   "id": "b97cdd7b",
   "metadata": {},
   "outputs": [
    {
     "name": "stdout",
     "output_type": "stream",
     "text": [
      "The AUC score on the validation set is 0.7125\n"
     ]
    }
   ],
   "source": [
    "print(f\"The AUC score on the validation set is {round(roc_auc_score(y_val, y_pred),4)}\")"
   ]
  },
  {
   "cell_type": "markdown",
   "id": "f27b8221",
   "metadata": {},
   "source": [
    "Here, we can notice the importance of the metric used to assess the performance of our model. Indeed, if we rely only on the accuracy and ROC AUC score, one can think that the model is not that bad. However, these two metrics are not adapted to unbalanced datasets, as it's the case for our datset. Conversely, the f-score metric is well suited for unbalanced datset, and reveal that the model is actually poorly performing. \n",
    "\n",
    "We will then focus on this metric for what follows !"
   ]
  },
  {
   "cell_type": "markdown",
   "id": "cc48eba0",
   "metadata": {},
   "source": [
    "## Random Forest "
   ]
  },
  {
   "cell_type": "markdown",
   "id": "ceb0016d",
   "metadata": {},
   "source": [
    "### Model selection "
   ]
  },
  {
   "cell_type": "markdown",
   "id": "66ea2926",
   "metadata": {},
   "source": [
    "To select the hyperparameters of our RF, we will use cross validation, in order to avoid overfitting, and to get a better estimate of the performance of our model."
   ]
  },
  {
   "cell_type": "code",
   "execution_count": 28,
   "id": "4a29a3f7",
   "metadata": {},
   "outputs": [
    {
     "name": "stdout",
     "output_type": "stream",
     "text": [
      "{'n_estimators': [200, 400, 600, 800, 1000, 1200, 1400, 1600, 1800, 2000], 'max_features': ['auto', 'sqrt'], 'max_depth': [10, 21, 32, 43, 54, 65, 76, 87, 98, 110, None], 'min_samples_split': [2, 5, 10], 'min_samples_leaf': [1, 2, 4], 'bootstrap': [True, False]}\n"
     ]
    }
   ],
   "source": [
    "# SELECTION OF THE BEST PARAMETERS\n",
    "\n",
    "# Number of trees in random forest\n",
    "n_estimators = [int(x) for x in np.linspace(start = 200, stop = 2000, num = 10)]\n",
    "\n",
    "# Number of features to consider at every split\n",
    "max_features = ['auto', 'sqrt']\n",
    "\n",
    "# Maximum number of levels in tree\n",
    "max_depth = [int(x) for x in np.linspace(10, 110, num = 10)]\n",
    "\n",
    "max_depth.append(None)\n",
    "# Minimum number of samples required to split a node\n",
    "min_samples_split = [2, 5, 10]\n",
    "\n",
    "# Minimum number of samples required at each leaf node\n",
    "min_samples_leaf = [1, 2, 4]\n",
    "\n",
    "# Method of selecting samples for training each tree\n",
    "bootstrap = [True, False]\n",
    "\n",
    "# Create the random grid\n",
    "random_grid = {'n_estimators': n_estimators,\n",
    "               'max_features': max_features,\n",
    "               'max_depth': max_depth,\n",
    "               'min_samples_split': min_samples_split,\n",
    "               'min_samples_leaf': min_samples_leaf,\n",
    "               'bootstrap': bootstrap}\n",
    "\n",
    "print(random_grid)"
   ]
  },
  {
   "cell_type": "code",
   "execution_count": 29,
   "id": "e95e05c8",
   "metadata": {},
   "outputs": [
    {
     "name": "stdout",
     "output_type": "stream",
     "text": [
      "Fitting 3 folds for each of 10 candidates, totalling 30 fits\n",
      "CPU times: user 1min 1s, sys: 353 ms, total: 1min 2s\n",
      "Wall time: 5min 45s\n"
     ]
    },
    {
     "data": {
      "text/plain": [
       "RandomizedSearchCV(cv=3, estimator=RandomForestClassifier(), n_jobs=-1,\n",
       "                   param_distributions={'bootstrap': [True, False],\n",
       "                                        'max_depth': [10, 21, 32, 43, 54, 65,\n",
       "                                                      76, 87, 98, 110, None],\n",
       "                                        'max_features': ['auto', 'sqrt'],\n",
       "                                        'min_samples_leaf': [1, 2, 4],\n",
       "                                        'min_samples_split': [2, 5, 10],\n",
       "                                        'n_estimators': [200, 400, 600, 800,\n",
       "                                                         1000, 1200, 1400, 1600,\n",
       "                                                         1800, 2000]},\n",
       "                   random_state=42, verbose=2)"
      ]
     },
     "execution_count": 29,
     "metadata": {},
     "output_type": "execute_result"
    },
    {
     "name": "stdout",
     "output_type": "stream",
     "text": [
      "[CV] END bootstrap=False, max_depth=98, max_features=auto, min_samples_leaf=4, min_samples_split=10, n_estimators=1600; total time= 1.9min\n",
      "[CV] END bootstrap=False, max_depth=76, max_features=auto, min_samples_leaf=2, min_samples_split=2, n_estimators=600; total time=  48.8s\n",
      "[CV] END bootstrap=False, max_depth=76, max_features=sqrt, min_samples_leaf=1, min_samples_split=10, n_estimators=1000; total time= 1.4min\n",
      "[CV] END bootstrap=False, max_depth=110, max_features=sqrt, min_samples_leaf=4, min_samples_split=10, n_estimators=600; total time=  43.3s\n",
      "[CV] END bootstrap=False, max_depth=76, max_features=auto, min_samples_leaf=2, min_samples_split=2, n_estimators=600; total time=  47.7s\n",
      "[CV] END bootstrap=False, max_depth=76, max_features=sqrt, min_samples_leaf=1, min_samples_split=10, n_estimators=1000; total time= 1.3min\n",
      "[CV] END bootstrap=True, max_depth=76, max_features=auto, min_samples_leaf=1, min_samples_split=5, n_estimators=1200; total time=  53.3s\n",
      "[CV] END bootstrap=True, max_depth=110, max_features=auto, min_samples_leaf=1, min_samples_split=5, n_estimators=1800; total time= 1.2min\n",
      "[CV] END bootstrap=True, max_depth=54, max_features=sqrt, min_samples_leaf=2, min_samples_split=10, n_estimators=200; total time=   8.5s\n",
      "[CV] END bootstrap=True, max_depth=54, max_features=sqrt, min_samples_leaf=2, min_samples_split=10, n_estimators=200; total time=   7.8s\n",
      "[CV] END bootstrap=True, max_depth=87, max_features=auto, min_samples_leaf=2, min_samples_split=2, n_estimators=1000; total time=  40.2s\n",
      "[CV] END bootstrap=True, max_depth=76, max_features=auto, min_samples_leaf=2, min_samples_split=10, n_estimators=200; total time=   8.4s\n",
      "[CV] END bootstrap=True, max_depth=76, max_features=auto, min_samples_leaf=2, min_samples_split=10, n_estimators=200; total time=   8.2s\n",
      "[CV] END bootstrap=True, max_depth=76, max_features=auto, min_samples_leaf=2, min_samples_split=10, n_estimators=200; total time=   8.4s\n",
      "[CV] END bootstrap=True, max_depth=76, max_features=auto, min_samples_leaf=1, min_samples_split=5, n_estimators=1200; total time=  51.9s\n",
      "[CV] END bootstrap=True, max_depth=110, max_features=auto, min_samples_leaf=1, min_samples_split=5, n_estimators=1800; total time= 1.2min\n",
      "[CV] END bootstrap=False, max_depth=76, max_features=sqrt, min_samples_leaf=1, min_samples_split=10, n_estimators=1000; total time= 1.3min\n",
      "[CV] END bootstrap=True, max_depth=76, max_features=auto, min_samples_leaf=1, min_samples_split=5, n_estimators=1200; total time=  53.6s\n",
      "[CV] END bootstrap=True, max_depth=110, max_features=auto, min_samples_leaf=1, min_samples_split=5, n_estimators=1800; total time= 1.3min\n",
      "[CV] END bootstrap=True, max_depth=54, max_features=sqrt, min_samples_leaf=2, min_samples_split=10, n_estimators=200; total time=   8.6s\n",
      "[CV] END bootstrap=True, max_depth=87, max_features=auto, min_samples_leaf=2, min_samples_split=2, n_estimators=1000; total time=  41.3s\n",
      "[CV] END bootstrap=True, max_depth=87, max_features=auto, min_samples_leaf=2, min_samples_split=2, n_estimators=1000; total time=  40.3s\n",
      "[CV] END bootstrap=False, max_depth=110, max_features=sqrt, min_samples_leaf=4, min_samples_split=10, n_estimators=600; total time=  44.0s\n",
      "[CV] END bootstrap=False, max_depth=21, max_features=auto, min_samples_leaf=1, min_samples_split=2, n_estimators=2000; total time= 2.2min\n",
      "[CV] END bootstrap=False, max_depth=98, max_features=auto, min_samples_leaf=4, min_samples_split=10, n_estimators=1600; total time= 1.9min\n",
      "[CV] END bootstrap=False, max_depth=110, max_features=sqrt, min_samples_leaf=4, min_samples_split=10, n_estimators=600; total time=  44.1s\n",
      "[CV] END bootstrap=False, max_depth=21, max_features=auto, min_samples_leaf=1, min_samples_split=2, n_estimators=2000; total time= 2.0min\n",
      "[CV] END bootstrap=False, max_depth=98, max_features=auto, min_samples_leaf=4, min_samples_split=10, n_estimators=1600; total time= 1.9min\n",
      "[CV] END bootstrap=False, max_depth=76, max_features=auto, min_samples_leaf=2, min_samples_split=2, n_estimators=600; total time=  50.3s\n",
      "[CV] END bootstrap=False, max_depth=21, max_features=auto, min_samples_leaf=1, min_samples_split=2, n_estimators=2000; total time= 2.0min\n"
     ]
    }
   ],
   "source": [
    "%%time\n",
    "\n",
    "rf = RandomForestClassifier()\n",
    "\n",
    "# Random search of parameters, using 3 fold cross validation, \n",
    "# search across 100 different combinations, and use all available cores\n",
    "rf_random = RandomizedSearchCV(estimator = rf, param_distributions = random_grid, n_iter = 10, cv = 3, verbose=2, random_state=42, n_jobs = -1)\n",
    "\n",
    "# Fit the random search model\n",
    "rf_random.fit(X_, y_)\n"
   ]
  },
  {
   "cell_type": "code",
   "execution_count": 30,
   "id": "b337968c",
   "metadata": {},
   "outputs": [
    {
     "data": {
      "image/png": "[encoded data removed]",
      "text/plain": [
       "<Figure size 1000x800 with 4 Axes>"
      ]
     },
     "metadata": {},
     "output_type": "display_data"
    }
   ],
   "source": [
    "# Extract the mean test scores of the model for each parameter value\n",
    "results = rf_random.cv_results_\n",
    "n_estimators = results['param_n_estimators'].data\n",
    "max_depth = results['param_max_depth'].data\n",
    "min_samples_split = results['param_min_samples_split'].data\n",
    "min_samples_leaf = results['param_min_samples_leaf'].data\n",
    "max_features = results['param_max_features'].data\n",
    "mean_test_score = results['mean_test_score']\n",
    "\n",
    "# Plot the sensitivity of the model to each parameter\n",
    "fig, ax = plt.subplots(nrows=2, ncols=2, figsize=(10, 8))\n",
    "ax = ax.flatten()\n",
    "for i, param in enumerate([n_estimators, max_depth, min_samples_split, min_samples_leaf]):\n",
    "    ax[i].scatter(param, mean_test_score)\n",
    "    #ax[i].set_xlabel(param.name)\n",
    "    ax[i].set_ylabel('Mean Test Score')\n",
    "plt.tight_layout()\n",
    "plt.show()"
   ]
  },
  {
   "cell_type": "code",
   "execution_count": 31,
   "id": "d96f2a46",
   "metadata": {},
   "outputs": [
    {
     "data": {
      "text/plain": [
       "{'n_estimators': 1200,\n",
       " 'min_samples_split': 5,\n",
       " 'min_samples_leaf': 1,\n",
       " 'max_features': 'auto',\n",
       " 'max_depth': 76,\n",
       " 'bootstrap': True}"
      ]
     },
     "execution_count": 31,
     "metadata": {},
     "output_type": "execute_result"
    }
   ],
   "source": [
    "rf_random.best_params_"
   ]
  },
  {
   "cell_type": "code",
   "execution_count": 34,
   "id": "0d542df0",
   "metadata": {},
   "outputs": [],
   "source": [
    "RF = RandomForestClassifier(n_estimators=1200, min_samples_split=5, \n",
    "                            min_samples_leaf=1,max_features='auto',\n",
    "                            max_depth=76, bootstrap=True)"
   ]
  },
  {
   "cell_type": "code",
   "execution_count": 35,
   "id": "da2d3aaf",
   "metadata": {},
   "outputs": [
    {
     "data": {
      "text/plain": [
       "RandomForestClassifier(max_depth=76, min_samples_split=5, n_estimators=1200)"
      ]
     },
     "execution_count": 35,
     "metadata": {},
     "output_type": "execute_result"
    }
   ],
   "source": [
    "RF.fit(X_train, y_train)"
   ]
  },
  {
   "cell_type": "code",
   "execution_count": 36,
   "id": "f0c6535f",
   "metadata": {},
   "outputs": [],
   "source": [
    "y_pred = RF.predict(X_val)"
   ]
  },
  {
   "cell_type": "code",
   "execution_count": 37,
   "id": "8d429cd9",
   "metadata": {},
   "outputs": [
    {
     "name": "stdout",
     "output_type": "stream",
     "text": [
      "The f1-score on the validation set is 0.4308\n"
     ]
    }
   ],
   "source": [
    "print(f\"The f1-score on the validation set is {round(f1_score(y_val, y_pred),4)}\")"
   ]
  },
  {
   "cell_type": "code",
   "execution_count": null,
   "id": "9424a7c1",
   "metadata": {},
   "outputs": [],
   "source": []
  }
 ],
 "metadata": {
  "kernelspec": {
   "display_name": "Python 3 (ipykernel)",
   "language": "python",
   "name": "python3"
  },
  "language_info": {
   "codemirror_mode": {
    "name": "ipython",
    "version": 3
   },
   "file_extension": ".py",
   "mimetype": "text/x-python",
   "name": "python",
   "nbconvert_exporter": "python",
   "pygments_lexer": "ipython3",
   "version": "3.9.13"
  }
 },
 "nbformat": 4,
 "nbformat_minor": 5
}
